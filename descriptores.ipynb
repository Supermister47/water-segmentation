{
 "cells": [
  {
   "cell_type": "code",
   "execution_count": 1,
   "metadata": {
    "colab": {
     "base_uri": "https://localhost:8080/"
    },
    "id": "Q2MPZH7ZNQFY",
    "outputId": "eedbf962-ea76-4559-93f1-1156c8fdaa91"
   },
   "outputs": [],
   "source": [
    "\n",
    "import numpy as np\n",
    "import cv2 as cv\n",
    "import matplotlib.pyplot as plt\n",
    "from skimage import feature\n",
    "\n",
    "from pathlib import Path\n",
    "import random\n",
    "import gc"
   ]
  },
  {
   "cell_type": "markdown",
   "metadata": {},
   "source": [
    "## Descriptores"
   ]
  },
  {
   "cell_type": "markdown",
   "metadata": {},
   "source": [
    "### Descriptor temporal"
   ]
  },
  {
   "cell_type": "code",
   "execution_count": 2,
   "metadata": {
    "id": "0UAfONuhX9r1"
   },
   "outputs": [],
   "source": [
    "\n",
    "def senalTemporal(cap, esq, n, m, i):\n",
    "\n",
    "  k = 0\n",
    "  signal = np.zeros(m, dtype=np.float32)\n",
    "\n",
    "  for j in range(i, i+m):\n",
    "    frame = cap[j]\n",
    "\n",
    "    parche = frame[esq[0]:esq[0]+n, esq[1]:esq[1]+n]\n",
    "    brillo_medio_parche = cv.cvtColor(parche, cv.COLOR_BGR2HSV)[:,:,2]\n",
    "\n",
    "    signal[k] = np.mean(brillo_medio_parche)\n",
    "    k += 1\n",
    "\n",
    "  return signal"
   ]
  },
  {
   "cell_type": "markdown",
   "metadata": {},
   "source": [
    "### Descriptor espacial"
   ]
  },
  {
   "cell_type": "code",
   "execution_count": 3,
   "metadata": {
    "id": "58w-03xqc8kY"
   },
   "outputs": [],
   "source": [
    "def histogramaLBP(cap, esq, n, m, i):\n",
    "  radio_lbp = 1\n",
    "  n_puntos = 8 * radio_lbp\n",
    "  frame = cap[i]\n",
    "\n",
    "\n",
    "  parche = cv.cvtColor(frame[esq[0]:esq[0]+n, esq[1]:esq[1]+n], cv.COLOR_BGR2GRAY)\n",
    "\n",
    "  parche_lbp = feature.local_binary_pattern(parche, n_puntos, radio_lbp, method=\"default\")\n",
    "  n_bins = 256\n",
    "  hist, bins = np.histogram(parche_lbp, density=True, bins=n_bins, range=(0, n_bins))\n",
    "\n",
    "  return hist, bins"
   ]
  },
  {
   "cell_type": "code",
   "execution_count": 14,
   "metadata": {
    "id": "i35boBAIX73L"
   },
   "outputs": [],
   "source": [
    "def obtenerDescriptor(cap, esq, n, m, i):\n",
    "\n",
    "  # Calculamos el descriptor temporal\n",
    "  senal = senalTemporal(cap, esq, n, m, i)\n",
    "  fft_senal = np.abs(np.fft.fft(senal.astype(np.float32)))\n",
    "  l1_norm = np.linalg.norm(fft_senal, ord=1)\n",
    "  l1_fft = fft_senal / l1_norm if l1_norm != 0 else np.zeros(m, dtype=np.float32)\n",
    "  \n",
    "\n",
    "  # Calculamos el descriptor espacial\n",
    "  espacial, _ = histogramaLBP(cap, esq, n, m, i)\n",
    "\n",
    "  # Concatenamos ambos descriptores\n",
    "  descriptor = np.concatenate((l1_fft, espacial), axis=None).astype(np.float32)\n",
    "\n",
    "  return descriptor"
   ]
  },
  {
   "cell_type": "code",
   "execution_count": 5,
   "metadata": {
    "id": "kGQ0GSz--pPb"
   },
   "outputs": [],
   "source": [
    "def esParcheValido(esq, frame_shape, n):\n",
    "  W, H = frame_shape\n",
    "  x, y = esq\n",
    "\n",
    "  return y + n <= W and x + n <= H\n"
   ]
  },
  {
   "cell_type": "code",
   "execution_count": 6,
   "metadata": {
    "id": "MVyYBlLJ7dg5"
   },
   "outputs": [],
   "source": [
    "\n",
    "def obtenerCoordenadaEnGrilla(frame_shape, n):\n",
    "  W, H = frame_shape\n",
    "\n",
    "  x = random.randint(0, W//n - 1)\n",
    "  y = random.randint(0, H//n - 1)\n",
    "\n",
    "\n",
    "  return (y*n, x*n)\n"
   ]
  },
  {
   "cell_type": "code",
   "execution_count": 7,
   "metadata": {
    "id": "-6esF4gO0F-w"
   },
   "outputs": [],
   "source": [
    "def listar_archivos(directorio):\n",
    "    path_object = Path(directorio)\n",
    "    sorted_items = sorted([archivo.absolute() for archivo in path_object.rglob('*') if archivo.is_file()], key=lambda item: item.name)\n",
    "    return [str(item) for item in sorted_items]"
   ]
  },
  {
   "cell_type": "markdown",
   "metadata": {},
   "source": [
    "#### Funciones para extraer descriptores para datos de Train y de Test"
   ]
  },
  {
   "cell_type": "code",
   "execution_count": 12,
   "metadata": {
    "id": "U91DQw1gCuq7"
   },
   "outputs": [],
   "source": [
    "def obtenerDescriptoresDeTrain(videos_train, cant_patches, n, m):\n",
    "  train_descriptors = []\n",
    "  train_masks = []\n",
    "\n",
    "  k = 0\n",
    "\n",
    "  for video_path, mask_path in videos_train:\n",
    "    k += 1\n",
    "    if k % 20 == 0:\n",
    "      np.save(f'1_train_data_{k}', np.array(train_descriptors))\n",
    "      np.save(f'1_train_masks_{k}', np.array(train_masks))\n",
    "\n",
    "      train_descriptors.clear()\n",
    "      train_masks.clear()\n",
    "\n",
    "    cap = cv.VideoCapture(video_path)\n",
    "\n",
    "    frames = int(cap.get(cv.CAP_PROP_FRAME_COUNT)) - m - 1\n",
    "    W = int(cap.get(cv.CAP_PROP_FRAME_WIDTH))\n",
    "    H = int(cap.get(cv.CAP_PROP_FRAME_HEIGHT))\n",
    "\n",
    "    cant_patches_per_frame = max(cant_patches // frames, 1) # Por si hay más frames que cant_patches\n",
    "\n",
    "    if mask_path != 'NO HAY':\n",
    "      mask = cv.imread(mask_path, cv.IMREAD_GRAYSCALE)\n",
    "    else:\n",
    "      mask = np.zeros((H, W), dtype=np.uint8)\n",
    "\n",
    "    video = []\n",
    "\n",
    "    while cap.isOpened():\n",
    "      ret, frame = cap.read()\n",
    "\n",
    "      if not ret:\n",
    "          break\n",
    "\n",
    "      video.append(frame)\n",
    "\n",
    "    cap.release()\n",
    "\n",
    "    video = np.array(video)\n",
    "\n",
    "    gc.collect()\n",
    "\n",
    "    for i in range(video.shape[0]-m-1):\n",
    "\n",
    "      for _ in range(cant_patches_per_frame):\n",
    "        esq = obtenerCoordenadaEnGrilla((W,H), n)\n",
    "\n",
    "        while not esParcheValido(esq, (W,H), n):\n",
    "          esq = obtenerCoordenadaEnGrilla((W,H), n)\n",
    "\n",
    "        des = obtenerDescriptor(video, esq, n, m, i)\n",
    "        mask_patch = mask[esq[0]:esq[0]+n, esq[1]:esq[1]+n]\n",
    "\n",
    "        if des.shape != (456,):\n",
    "          print(des.shape)\n",
    "          raise(\"error\")\n",
    "        \n",
    "        train_descriptors.append(des)\n",
    "        train_masks.append(1 if np.sum(mask_patch == 255) > (mask_patch.size / 2) else 0)\n",
    "\n",
    "  \n",
    "  np.save(f'1_train_data_{k}', np.array(train_descriptors))\n",
    "  np.save(f'1_masks_train_{k}', np.array(train_masks))\n",
    "\n",
    "  train_descriptors.clear()\n",
    "  train_masks.clear()"
   ]
  },
  {
   "cell_type": "code",
   "execution_count": 9,
   "metadata": {
    "id": "miBdEAbNDQLr"
   },
   "outputs": [],
   "source": [
    "def obtenerDescriptoresDeTest(videos_test, n, m):\n",
    "  test_descriptors = []\n",
    "  test_masks = []\n",
    "  max_frames = 20\n",
    "\n",
    "  for video_path, mask_path in videos_test:\n",
    "    cap = cv.VideoCapture(video_path)\n",
    "\n",
    "    frames = int(cap.get(cv.CAP_PROP_FRAME_COUNT))\n",
    "    W = int(cap.get(cv.CAP_PROP_FRAME_WIDTH))\n",
    "    H = int(cap.get(cv.CAP_PROP_FRAME_HEIGHT))\n",
    "\n",
    "    if mask_path != 'NO HAY':\n",
    "      mask = cv.imread(mask_path, cv.IMREAD_GRAYSCALE)\n",
    "    else:\n",
    "      mask = np.zeros((H, W), dtype=np.uint8)\n",
    "\n",
    "    video = []\n",
    "\n",
    "    while cap.isOpened():\n",
    "      ret, frame = cap.read()\n",
    "\n",
    "      if not ret:\n",
    "          print(\"Can't receive frame (stream end?). Exiting ...\")\n",
    "          break\n",
    "\n",
    "      video.append(frame)\n",
    "\n",
    "    cap.release()\n",
    "\n",
    "    video = np.array(video)\n",
    "\n",
    "    gc.collect()\n",
    "\n",
    "    for i in range(min(max_frames, video.shape[0])):\n",
    "      video_descriptors = []\n",
    "      print(i)\n",
    "      for x in range(0, H, n):\n",
    "        for y in range(0, W, n):\n",
    "          des = obtenerDescriptor(video, (x,y), n, m, i)\n",
    "          video_descriptors.append(des)\n",
    "\n",
    "      mask_patch = mask[x:x+n, y:y+n]\n",
    "      test_descriptors.append(video_descriptors)\n",
    "      test_masks.append(1 if np.sum(mask_patch == 255) > (mask_patch.size / 2) else 0)\n",
    "\n",
    "\n",
    "  return np.array(test_descriptors), np.array(test_masks)"
   ]
  },
  {
   "cell_type": "markdown",
   "metadata": {},
   "source": [
    "### Crear el dataset de Train"
   ]
  },
  {
   "cell_type": "code",
   "execution_count": null,
   "metadata": {
    "id": "nLw9uDn7AYtM"
   },
   "outputs": [],
   "source": [
    "def splitDataset():\n",
    "  train_split = 0.8\n",
    "\n",
    "  videos_no_agua = listar_archivos(r\"**PATH_TO_NON_WATER_RESIDUAL_VIDEOS**\")\n",
    "  videos_agua = listar_archivos(r\"**PATH_TO_WATER_RESIDUAL_VIDEOS**\")\n",
    "\n",
    "  masks_no_agua = [\"NO HAY\" for i in range(len(videos_no_agua))]\n",
    "  masks_agua = listar_archivos(r\"**PATH_TO_WATER_VIDEOS_MASKS**\")\n",
    "\n",
    "  videos_agua = list(zip(videos_agua, masks_agua))\n",
    "  videos_no_agua = list(zip(videos_no_agua, masks_no_agua))\n",
    "\n",
    "  proporcion_videos_agua = len(videos_agua) / (len(videos_agua) + len(videos_no_agua))\n",
    "  proporcion_videos_no_agua = 1 - proporcion_videos_agua\n",
    "\n",
    "  cant_total_videos_train = (len(videos_agua) + len(videos_no_agua)) * train_split\n",
    "  cant_total_videos_test = (len(videos_agua) + len(videos_no_agua)) - cant_total_videos_train\n",
    "\n",
    "  cant_videos_agua_train = int(cant_total_videos_train * proporcion_videos_agua)\n",
    "  cant_videos_no_agua_train = int(cant_total_videos_train - cant_videos_agua_train)\n",
    "\n",
    "  cant_videos_agua_test = int(cant_total_videos_test * proporcion_videos_agua)\n",
    "  cant_videos_no_agua_test = int(cant_total_videos_test - cant_videos_agua_test)\n",
    "\n",
    "  random.shuffle(videos_agua)\n",
    "  random.shuffle(videos_no_agua)\n",
    "\n",
    "  videos_train = videos_agua[:cant_videos_agua_train] + videos_no_agua[:cant_videos_no_agua_train]\n",
    "  videos_test = videos_agua[cant_videos_agua_train:] + videos_no_agua[cant_videos_no_agua_train:]\n",
    "\n",
    "  random.shuffle(videos_train)\n",
    "  random.shuffle(videos_test)\n",
    "\n",
    "\n",
    "  return videos_train, videos_test"
   ]
  },
  {
   "cell_type": "code",
   "execution_count": 11,
   "metadata": {
    "id": "TyQBs5auoYB4"
   },
   "outputs": [],
   "source": [
    "# 100 videos sin agua\n",
    "# 160 videos con agua\n",
    "def generarDatosTrain():\n",
    "\n",
    "  n = 20\n",
    "  m = 200\n",
    "  cant_patches = 2500\n",
    "\n",
    "\n",
    "  videos_train, videos_test = splitDataset()\n",
    "\n",
    "  np.save(\"train_split_path\", np.array(videos_train))\n",
    "  np.save(\"test_split_path\", np.array(videos_test))\n",
    "\n",
    "  obtenerDescriptoresDeTrain(videos_train, cant_patches, n, m)\n",
    "\n"
   ]
  },
  {
   "cell_type": "code",
   "execution_count": null,
   "metadata": {
    "colab": {
     "base_uri": "https://localhost:8080/"
    },
    "id": "2JqCebv9CQts",
    "outputId": "fab5f137-aca3-4c2c-85ca-20feece78737"
   },
   "outputs": [],
   "source": [
    "random.seed(47)\n",
    "generarDatosTrain()"
   ]
  },
  {
   "cell_type": "markdown",
   "metadata": {},
   "source": [
    "### Cargamos los datos de Train del disco y entrenamos el Random Forest"
   ]
  },
  {
   "cell_type": "code",
   "execution_count": null,
   "metadata": {},
   "outputs": [],
   "source": [
    "\n",
    "from sklearn.ensemble import RandomForestClassifier\n",
    "import numpy as np\n",
    "\n",
    "# Cargar datos\n",
    "train_desc = np.concatenate((np.load(\"1_train_data_20.npy\"),\\\n",
    "                            np.load(\"1_train_data_40.npy\"),\\\n",
    "                            np.load(\"1_train_data_60.npy\"),\\\n",
    "                            np.load(\"1_train_data_80.npy\"),\\\n",
    "                            np.load(\"1_train_data_100.npy\"),\\\n",
    "                            np.load(\"1_train_data_120.npy\"),\\\n",
    "                            np.load(\"1_train_data_140.npy\"),\\\n",
    "                             np.load(\"1_train_data_160.npy\"),\\\n",
    "                             np.load(\"1_train_data_180.npy\"),\\\n",
    "                             np.load(\"1_train_data_200.npy\"),\\\n",
    "                             np.load(\"1_train_data_208.npy\")), axis=0)\n",
    "y_multi = np.concatenate((np.load(\"1_train_masks_20.npy\"),\\\n",
    "                        np.load(\"1_train_masks_40.npy\"),\\\n",
    "                        np.load(\"1_train_masks_60.npy\"),\n",
    "                        np.load(\"1_train_masks_80.npy\"),\\\n",
    "                        np.load(\"1_train_masks_100.npy\"),\\\n",
    "                        np.load(\"1_train_masks_120.npy\"),\\\n",
    "                        np.load(\"1_train_masks_140.npy\"),\\\n",
    "                          np.load(\"1_train_masks_160.npy\"),\n",
    "                          np.load(\"1_train_masks_180.npy\"),\n",
    "                          np.load(\"1_train_masks_200.npy\"),\n",
    "                          np.load(\"1_masks_train_208.npy\")), axis=0)\n",
    "\n",
    "\n",
    "y_train = np.array(y_multi)\n",
    "\n",
    "\n",
    "model = RandomForestClassifier(n_estimators=100, criterion=\"entropy\", random_state=47, n_jobs=4)\n",
    "model.fit(train_desc, y_multi)"
   ]
  },
  {
   "cell_type": "markdown",
   "metadata": {},
   "source": [
    "#### Guardamos el modelo en el disco"
   ]
  },
  {
   "cell_type": "code",
   "execution_count": 36,
   "metadata": {},
   "outputs": [
    {
     "data": {
      "text/plain": [
       "['random_forest_model_hybrid.joblib']"
      ]
     },
     "execution_count": 36,
     "metadata": {},
     "output_type": "execute_result"
    }
   ],
   "source": [
    "import joblib\n",
    "\n",
    "joblib.dump(model, 'random_forest_model_hybrid.joblib')"
   ]
  },
  {
   "cell_type": "markdown",
   "metadata": {},
   "source": [
    "### Generamos las segmentaciones en los videos de Test"
   ]
  },
  {
   "cell_type": "code",
   "execution_count": null,
   "metadata": {},
   "outputs": [],
   "source": [
    "import os\n",
    "import joblib\n",
    "\n",
    "model = joblib.load(\"random_forest_model_hybrid.joblib\")\n",
    "videos = np.load(\"test_split_path.npy\")\n",
    "\n",
    "for video in videos:\n",
    "  print(video[0])\n",
    "  \n",
    "  descriptores = obtenerDescriptoresDeTest([video], 20, 200)[0]\n",
    "\n",
    "\n",
    "  ancho = 800\n",
    "  altura = 600\n",
    "  fps = 5\n",
    "  fourcc = cv.VideoWriter_fourcc(*'XVID')\n",
    "  codec = fourcc\n",
    "\n",
    "  ruta_modificada = Path(video[0].replace('Residuales', 'Segmentacion test')).parts\n",
    "  ruta_sin_videos = Path(*[parte for parte in ruta_modificada if parte != 'videos'])\n",
    "\n",
    "  out = cv.VideoWriter(str(ruta_sin_videos), codec, fps, (ancho, altura), False)\n",
    "\n",
    "  for frame_descriptor in descriptores:\n",
    "\n",
    "    # Calculamos la probabilidad que tiene cada parche de contener agua o no\n",
    "    p = np.array(model.predict_proba(frame_descriptor)[:,0]).reshape(30,40)\n",
    "\n",
    "    # Interpolamos para aumentar el tamaño del frame a 800x600\n",
    "    p = cv.resize(p, (800, 600), interpolation=cv.INTER_CUBIC)\n",
    "    \n",
    "    # Umbralizamos para obtener la clasificación de cada parche\n",
    "    p = (p < 0.5).astype(np.uint8) * 255\n",
    "\n",
    "    out.write(p)\n",
    "    \n",
    "  out.release()"
   ]
  },
  {
   "cell_type": "markdown",
   "metadata": {},
   "source": [
    "También generamos las segmentaciones para algunos de los videos de Train"
   ]
  },
  {
   "cell_type": "code",
   "execution_count": null,
   "metadata": {},
   "outputs": [],
   "source": [
    "import os\n",
    "import joblib\n",
    "\n",
    "model = joblib.load(\"random_forest_model_hybrid.joblib\")\n",
    "videos = np.load(\"train_split_path.npy\")\n",
    "\n",
    "for video in videos:\n",
    "  print(video[0])\n",
    "\n",
    "  if \"non_water\" in Path(video[0]).parts:\n",
    "    if random.random() > 0.1:\n",
    "      continue\n",
    "  \n",
    "  descriptores = obtenerDescriptoresDeTest([video], 20, 200)[0]\n",
    "\n",
    "  ancho = 800\n",
    "  altura = 600\n",
    "  fps = 5\n",
    "  fourcc = cv.VideoWriter_fourcc(*'XVID')\n",
    "  codec = fourcc\n",
    "\n",
    "  ruta_modificada = Path(video[0].replace('Residuales', 'Segmentacion')).parts\n",
    "  ruta_sin_videos = Path(*[parte for parte in ruta_modificada if parte != 'videos'])\n",
    "\n",
    "  out = cv.VideoWriter(str(ruta_sin_videos), codec, fps, (ancho, altura), False)\n",
    "\n",
    "  for frame_descriptor in descriptores:\n",
    "    p = np.array(model.predict_proba(frame_descriptor)[:,0]).reshape(30,40)\n",
    "    p = cv.resize(p, (800, 600), interpolation=cv.INTER_CUBIC)\n",
    "    p = (p < 0.5).astype(np.uint8) * 255\n",
    "\n",
    "    out.write(p)\n",
    "  out.release()"
   ]
  }
 ],
 "metadata": {
  "accelerator": "GPU",
  "colab": {
   "gpuType": "T4",
   "provenance": []
  },
  "kernelspec": {
   "display_name": "Python 3",
   "name": "python3"
  },
  "language_info": {
   "codemirror_mode": {
    "name": "ipython",
    "version": 3
   },
   "file_extension": ".py",
   "mimetype": "text/x-python",
   "name": "python",
   "nbconvert_exporter": "python",
   "pygments_lexer": "ipython3",
   "version": "3.11.3"
  }
 },
 "nbformat": 4,
 "nbformat_minor": 0
}
