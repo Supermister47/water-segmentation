{
 "cells": [
  {
   "cell_type": "code",
   "execution_count": 2,
   "metadata": {},
   "outputs": [],
   "source": [
    "import numpy as np\n",
    "import cv2 as cv\n",
    "from pathlib import Path\n",
    "import matplotlib.pyplot as plt"
   ]
  },
  {
   "cell_type": "markdown",
   "metadata": {},
   "source": [
    "## Definimos la calidad de la segmentación"
   ]
  },
  {
   "cell_type": "code",
   "execution_count": 16,
   "metadata": {},
   "outputs": [],
   "source": [
    "def S(V, M):\n",
    "\tW = 800\n",
    "\tH = 600\n",
    "\tV_frames = int(V.get(cv.CAP_PROP_FRAME_COUNT))\n",
    "\n",
    "\tsuma = 0\n",
    "\twhile V.isOpened():\n",
    "\t\tret, Vi = V.read()\n",
    "\n",
    "\t\tif not ret:\n",
    "\t\t\tbreak\n",
    "\t\n",
    "\t\tVi = cv.cvtColor(Vi, cv.COLOR_BGR2GRAY).astype(np.int16)\n",
    "\t\tVi //= 255\n",
    "\n",
    "\t\t\n",
    "\t\ts_Vi = 1 - ((np.sum(np.abs(Vi - M))) / (W*H))\n",
    "\t\tsuma += s_Vi\n",
    "\t\n",
    "\treturn (suma / V_frames) * 100"
   ]
  },
  {
   "cell_type": "markdown",
   "metadata": {},
   "source": [
    "### Evaluamos la segmentación de cada video de Test"
   ]
  },
  {
   "cell_type": "code",
   "execution_count": 4,
   "metadata": {},
   "outputs": [],
   "source": [
    "def listar_archivos(directorio):\n",
    "    path_object = Path(directorio)\n",
    "    sorted_items = sorted([archivo.absolute() for archivo in path_object.rglob('*') if archivo.is_file()], key=lambda item: item.name)\n",
    "    return [str(item) for item in sorted_items]"
   ]
  },
  {
   "cell_type": "code",
   "execution_count": 22,
   "metadata": {},
   "outputs": [],
   "source": [
    "def buscar_archivo(nombre_archivo, carpeta):\n",
    "    path_carpeta = Path(carpeta)\n",
    "    \n",
    "    for archivo in path_carpeta.rglob(nombre_archivo):\n",
    "        return archivo\n"
   ]
  },
  {
   "cell_type": "code",
   "execution_count": null,
   "metadata": {},
   "outputs": [
    {
     "name": "stdout",
     "output_type": "stream",
     "text": [
      "La calidad de la segmentación es de: 89.89%\n"
     ]
    }
   ],
   "source": [
    "fits = []\n",
    "test_path = np.load(\"test_split_path.npy\")\n",
    "non_water_mask = np.zeros((600, 800), dtype=np.int16)\n",
    "\n",
    "for residual_path in test_path:\n",
    "    V_path = str(buscar_archivo(Path(residual_path[0]).name, r\"PATH_TO_SEGMENTED_VIDEOS\"))\n",
    "\n",
    "    V = cv.VideoCapture(V_path)\n",
    "\n",
    "    if residual_path[1] != 'NO HAY':\n",
    "      M = cv.imread(residual_path[1], cv.IMREAD_GRAYSCALE).astype(np.int16) // 255\n",
    "    else:\n",
    "      M = non_water_mask\n",
    "\n",
    "    fits.append(S(V, M))\n",
    "\n",
    "\n",
    "print(f\"La calidad de la segmentación es de: {round(np.mean(np.array(fits)), 2)}%\")"
   ]
  }
 ],
 "metadata": {
  "kernelspec": {
   "display_name": "Python 3",
   "language": "python",
   "name": "python3"
  },
  "language_info": {
   "codemirror_mode": {
    "name": "ipython",
    "version": 3
   },
   "file_extension": ".py",
   "mimetype": "text/x-python",
   "name": "python",
   "nbconvert_exporter": "python",
   "pygments_lexer": "ipython3",
   "version": "3.11.3"
  }
 },
 "nbformat": 4,
 "nbformat_minor": 2
}
